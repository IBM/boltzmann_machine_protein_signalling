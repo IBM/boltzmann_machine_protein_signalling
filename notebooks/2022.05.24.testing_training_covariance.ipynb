{
 "cells": [
  {
   "cell_type": "code",
   "execution_count": 1,
   "id": "16875bb9",
   "metadata": {},
   "outputs": [],
   "source": [
    "import numpy as np\n",
    "import numpy.linalg as l\n",
    "import seaborn as sns\n",
    "import matplotlib.pyplot as plt\n",
    "import pandas as pd"
   ]
  },
  {
   "cell_type": "code",
   "execution_count": 2,
   "id": "e6814e3a",
   "metadata": {},
   "outputs": [
    {
     "name": "stderr",
     "output_type": "stream",
     "text": [
      "/Users/deu/.pyenv/versions/3.8.9/envs/bops/lib/python3.8/site-packages/numpy_ml/rl_models/rl_utils.py:25: DependencyWarning: Agents in `numpy_ml.rl_models` use the OpenAI gym for training. To install the gym environments, run `pip install gym`. For more information, see https://github.com/openai/gym.\n",
      "  warnings.warn(fstr, DependencyWarning)\n",
      "/Users/deu/Projects/CAR/bops/src/bops/rbm.py:5: TqdmExperimentalWarning: Using `tqdm.autonotebook.tqdm` in notebook mode. Use `tqdm.tqdm` instead to force console mode (e.g. in jupyter console)\n",
      "  from tqdm.autonotebook import tqdm\n"
     ]
    }
   ],
   "source": [
    "from bops.rbm import RestrictedBoltzmannMachine"
   ]
  },
  {
   "cell_type": "code",
   "execution_count": 14,
   "id": "c437a900",
   "metadata": {},
   "outputs": [],
   "source": [
    "teacher = RestrictedBoltzmannMachine(n_visible=5, n_hidden=3)\n",
    "student = RestrictedBoltzmannMachine(n_visible=5, n_hidden=6)\n",
    "\n",
    "teacher.xavier_initialization()\n",
    "student.xavier_initialization()"
   ]
  },
  {
   "cell_type": "code",
   "execution_count": 15,
   "id": "b9c09135",
   "metadata": {},
   "outputs": [],
   "source": [
    "batch, n = teacher.sample_initial_batch(batch_size=1)"
   ]
  },
  {
   "cell_type": "code",
   "execution_count": 16,
   "id": "27e391ee",
   "metadata": {},
   "outputs": [],
   "source": [
    "train_set = teacher.sample_gibbs(n_burn=10000, n_steps=10000, return_hidden=False)"
   ]
  },
  {
   "cell_type": "code",
   "execution_count": 17,
   "id": "552cd31a",
   "metadata": {
    "scrolled": true
   },
   "outputs": [
    {
     "data": {
      "application/vnd.jupyter.widget-view+json": {
       "model_id": "f01bd2d823ae4bed8f82dcaf11848658",
       "version_major": 2,
       "version_minor": 0
      },
      "text/plain": [
       "Cov L2 Diff: 5.77e-01:   0%|          | 0/10 [00:00<?, ?it/s]"
      ]
     },
     "metadata": {},
     "output_type": "display_data"
    }
   ],
   "source": [
    "history = student.train(v=train_set, batch_size=50, n_epochs=10)"
   ]
  },
  {
   "cell_type": "code",
   "execution_count": 18,
   "id": "b5ed557d",
   "metadata": {},
   "outputs": [
    {
     "data": {
      "text/plain": [
       "[<matplotlib.lines.Line2D at 0x13111c6d0>]"
      ]
     },
     "execution_count": 18,
     "metadata": {},
     "output_type": "execute_result"
    },
    {
     "data": {
      "image/png": "[encoded data removed]",
      "text/plain": [
       "<Figure size 432x288 with 1 Axes>"
      ]
     },
     "metadata": {
      "needs_background": "light"
     },
     "output_type": "display_data"
    }
   ],
   "source": [
    "plt.plot(history)"
   ]
  },
  {
   "cell_type": "code",
   "execution_count": 19,
   "id": "49e60399",
   "metadata": {},
   "outputs": [],
   "source": [
    "test_set = teacher.sample_gibbs(n_burn=10000, n_steps=10000, batch_size=1, return_hidden=False)"
   ]
  },
  {
   "cell_type": "code",
   "execution_count": 20,
   "id": "451e3c8e",
   "metadata": {},
   "outputs": [],
   "source": [
    "predict = student.sample_gibbs(n_burn=10000, n_steps=10000, batch_size=1, return_hidden=False)"
   ]
  },
  {
   "cell_type": "code",
   "execution_count": 21,
   "id": "0ea0a05b",
   "metadata": {},
   "outputs": [
    {
     "data": {
      "text/plain": [
       "array([0.7721, 0.9859, 0.2741, 0.1107, 0.7278])"
      ]
     },
     "execution_count": 21,
     "metadata": {},
     "output_type": "execute_result"
    }
   ],
   "source": [
    "test_set.mean(axis=0)"
   ]
  },
  {
   "cell_type": "code",
   "execution_count": 22,
   "id": "b6e3e89f",
   "metadata": {},
   "outputs": [
    {
     "data": {
      "text/plain": [
       "array([0.7733, 0.9825, 0.2646, 0.1242, 0.7251])"
      ]
     },
     "execution_count": 22,
     "metadata": {},
     "output_type": "execute_result"
    }
   ],
   "source": [
    "predict.mean(axis=0)"
   ]
  },
  {
   "cell_type": "code",
   "execution_count": 23,
   "id": "a9dc7efb",
   "metadata": {},
   "outputs": [
    {
     "data": {
      "text/plain": [
       "0.021795413877240294"
      ]
     },
     "execution_count": 23,
     "metadata": {},
     "output_type": "execute_result"
    }
   ],
   "source": [
    "l.norm(np.cov(predict.T) - np.cov(test_set.T)) / (l.norm(np.cov(predict.T))+l.norm(np.cov(test_set.T)))"
   ]
  },
  {
   "cell_type": "code",
   "execution_count": null,
   "id": "5a53accd",
   "metadata": {},
   "outputs": [],
   "source": []
  },
  {
   "cell_type": "markdown",
   "id": "1f04ae62",
   "metadata": {},
   "source": [
    "# Checking predictions"
   ]
  },
  {
   "cell_type": "code",
   "execution_count": 24,
   "id": "2a328a94",
   "metadata": {},
   "outputs": [],
   "source": [
    "v = np.array([[1.,1.,1.,0.,0.]])"
   ]
  },
  {
   "cell_type": "code",
   "execution_count": 25,
   "id": "2bc70cf6",
   "metadata": {},
   "outputs": [],
   "source": [
    "pred_teach = teacher.sample_gibbs(v_start=v, mask_updates=v[0], n_burn=100, n_steps=1000)"
   ]
  },
  {
   "cell_type": "code",
   "execution_count": 26,
   "id": "b5a9cece",
   "metadata": {},
   "outputs": [],
   "source": [
    "pred_stud = student.sample_gibbs(v_start=v, mask_updates=v[0], n_burn=100, n_steps=1000)"
   ]
  },
  {
   "cell_type": "code",
   "execution_count": 27,
   "id": "2101b4f3",
   "metadata": {},
   "outputs": [],
   "source": [
    "val_teach, counts_teach = np.unique(pred_teach[:,-2:],axis=0,return_counts=True)\n",
    "val_teach = [str(tuple(val)) for val in val_teach]"
   ]
  },
  {
   "cell_type": "code",
   "execution_count": 28,
   "id": "4ae300a0",
   "metadata": {},
   "outputs": [],
   "source": [
    "teach_predictions = dict(zip(val_teach, counts_teach))"
   ]
  },
  {
   "cell_type": "code",
   "execution_count": 29,
   "id": "ae6d7a90",
   "metadata": {},
   "outputs": [],
   "source": [
    "val_stud, counts_stud = np.unique(pred_stud[:,-2:],axis=0,return_counts=True)\n",
    "val_stud = [str(tuple(val)) for val in val_stud]\n",
    "stud_predictions = dict(zip(val_stud, counts_stud))"
   ]
  },
  {
   "cell_type": "code",
   "execution_count": 30,
   "id": "5680061a",
   "metadata": {},
   "outputs": [],
   "source": [
    "predictions = pd.concat([\n",
    "    pd.Series(teach_predictions).reset_index().rename({0:'count','index':'val'}, axis='columns').assign(model='teacher'),\n",
    "    pd.Series(stud_predictions).reset_index().rename({0:'count','index':'val'}, axis='columns').assign(model='student')\n",
    "])"
   ]
  },
  {
   "cell_type": "code",
   "execution_count": 31,
   "id": "290aa9c9",
   "metadata": {},
   "outputs": [
    {
     "data": {
      "text/html": [
       "<div>\n",
       "<style scoped>\n",
       "    .dataframe tbody tr th:only-of-type {\n",
       "        vertical-align: middle;\n",
       "    }\n",
       "\n",
       "    .dataframe tbody tr th {\n",
       "        vertical-align: top;\n",
       "    }\n",
       "\n",
       "    .dataframe thead th {\n",
       "        text-align: right;\n",
       "    }\n",
       "</style>\n",
       "<table border=\"1\" class=\"dataframe\">\n",
       "  <thead>\n",
       "    <tr style=\"text-align: right;\">\n",
       "      <th></th>\n",
       "      <th>val</th>\n",
       "      <th>count</th>\n",
       "      <th>model</th>\n",
       "    </tr>\n",
       "  </thead>\n",
       "  <tbody>\n",
       "    <tr>\n",
       "      <th>0</th>\n",
       "      <td>(0.0, 0.0)</td>\n",
       "      <td>236</td>\n",
       "      <td>teacher</td>\n",
       "    </tr>\n",
       "    <tr>\n",
       "      <th>1</th>\n",
       "      <td>(0.0, 1.0)</td>\n",
       "      <td>647</td>\n",
       "      <td>teacher</td>\n",
       "    </tr>\n",
       "    <tr>\n",
       "      <th>2</th>\n",
       "      <td>(1.0, 0.0)</td>\n",
       "      <td>30</td>\n",
       "      <td>teacher</td>\n",
       "    </tr>\n",
       "    <tr>\n",
       "      <th>3</th>\n",
       "      <td>(1.0, 1.0)</td>\n",
       "      <td>87</td>\n",
       "      <td>teacher</td>\n",
       "    </tr>\n",
       "    <tr>\n",
       "      <th>0</th>\n",
       "      <td>(0.0, 0.0)</td>\n",
       "      <td>241</td>\n",
       "      <td>student</td>\n",
       "    </tr>\n",
       "    <tr>\n",
       "      <th>1</th>\n",
       "      <td>(0.0, 1.0)</td>\n",
       "      <td>652</td>\n",
       "      <td>student</td>\n",
       "    </tr>\n",
       "    <tr>\n",
       "      <th>2</th>\n",
       "      <td>(1.0, 0.0)</td>\n",
       "      <td>29</td>\n",
       "      <td>student</td>\n",
       "    </tr>\n",
       "    <tr>\n",
       "      <th>3</th>\n",
       "      <td>(1.0, 1.0)</td>\n",
       "      <td>78</td>\n",
       "      <td>student</td>\n",
       "    </tr>\n",
       "  </tbody>\n",
       "</table>\n",
       "</div>"
      ],
      "text/plain": [
       "          val  count    model\n",
       "0  (0.0, 0.0)    236  teacher\n",
       "1  (0.0, 1.0)    647  teacher\n",
       "2  (1.0, 0.0)     30  teacher\n",
       "3  (1.0, 1.0)     87  teacher\n",
       "0  (0.0, 0.0)    241  student\n",
       "1  (0.0, 1.0)    652  student\n",
       "2  (1.0, 0.0)     29  student\n",
       "3  (1.0, 1.0)     78  student"
      ]
     },
     "execution_count": 31,
     "metadata": {},
     "output_type": "execute_result"
    }
   ],
   "source": [
    "predictions"
   ]
  },
  {
   "cell_type": "code",
   "execution_count": 32,
   "id": "61decc45",
   "metadata": {},
   "outputs": [
    {
     "data": {
      "text/plain": [
       "<AxesSubplot:xlabel='val', ylabel='count'>"
      ]
     },
     "execution_count": 32,
     "metadata": {},
     "output_type": "execute_result"
    },
    {
     "data": {
      "image/png": "[encoded data removed]",
      "text/plain": [
       "<Figure size 432x288 with 1 Axes>"
      ]
     },
     "metadata": {
      "needs_background": "light"
     },
     "output_type": "display_data"
    }
   ],
   "source": [
    "sns.barplot(data=predictions, x='val', y='count', hue='model')"
   ]
  },
  {
   "cell_type": "code",
   "execution_count": null,
   "id": "ad8affb2",
   "metadata": {},
   "outputs": [],
   "source": []
  }
 ],
 "metadata": {
  "kernelspec": {
   "display_name": "Python 3 (ipykernel)",
   "language": "python",
   "name": "python3"
  },
  "language_info": {
   "codemirror_mode": {
    "name": "ipython",
    "version": 3
   },
   "file_extension": ".py",
   "mimetype": "text/x-python",
   "name": "python",
   "nbconvert_exporter": "python",
   "pygments_lexer": "ipython3",
   "version": "3.8.9"
  }
 },
 "nbformat": 4,
 "nbformat_minor": 5
}
